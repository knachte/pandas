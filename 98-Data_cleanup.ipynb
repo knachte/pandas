{
 "cells": [
  {
   "cell_type": "markdown",
   "metadata": {},
   "source": [
    "# Data Cleanup"
   ]
  },
  {
   "cell_type": "markdown",
   "metadata": {},
   "source": [
    "To see what fields contain NaN in an imported DataFrame, we can use *df.isnull()*. This will return a DataFrame of the same size as the original, containing True/False for each cell. Add sum to the end to get a summary of how any items are NaN. The valid ones can be found with df.notNull() "
   ]
  },
  {
   "cell_type": "markdown",
   "metadata": {},
   "source": [
    "DataFrame.dropna(how='any') drops all rows with a NaN in it.\n",
    "\n",
    "DataFrame.dropna(how='any') drops a row when all it's values are NaN\n",
    "\n",
    "DataFrame.dropna(subset=['Column1', 'Column2', ...], how=\"any\")  drops all rows with a NaN in the specified columns."
   ]
  },
  {
   "cell_type": "markdown",
   "metadata": {},
   "source": [
    "df.columnX.fillna(value=\"something relevant\", inplace=True) fills all NaN values in columnX with \"something relevant\""
   ]
  },
  {
   "cell_type": "code",
   "execution_count": null,
   "metadata": {},
   "outputs": [],
   "source": []
  }
 ],
 "metadata": {
  "kernelspec": {
   "display_name": "Python 3",
   "language": "python",
   "name": "python3"
  },
  "language_info": {
   "codemirror_mode": {
    "name": "ipython",
    "version": 3
   },
   "file_extension": ".py",
   "mimetype": "text/x-python",
   "name": "python",
   "nbconvert_exporter": "python",
   "pygments_lexer": "ipython3",
   "version": "3.7.3"
  }
 },
 "nbformat": 4,
 "nbformat_minor": 2
}
