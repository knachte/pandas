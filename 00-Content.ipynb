{
 "cells": [
  {
   "cell_type": "markdown",
   "metadata": {},
   "source": [
    "# Contents"
   ]
  },
  {
   "cell_type": "markdown",
   "metadata": {},
   "source": [
    "[CSV handling](01-CSV_Handling.ipynb)\n",
    "\n",
    "[DataFrames, Series and Lists](02-DataFrames_Series_and_Lists.ipynb)\n",
    "\n",
    "[Adding columns to a DataFrame](03-Adding_columns_to_a_DataFrame.ipynb)\n",
    "\n",
    "[Removing columns to a DataFrame](04-Removing_columns_from_a_DataFrame.ipynb)\n",
    "\n",
    "[Filtering](05-Filtering.ipynb)\n",
    "\n",
    "[Row operations](06-Row_operations.ipynb)\n",
    "\n",
    "[Column operations](07-Column_operations.ipynb)\n",
    "\n",
    "[Plotting](08-Plotting.ipynb)\n",
    "\n",
    "[Numpy](09-Numpy.ipynb)\n"
   ]
  }
 ],
 "metadata": {
  "kernelspec": {
   "display_name": "Python 3",
   "language": "python",
   "name": "python3"
  },
  "language_info": {
   "codemirror_mode": {
    "name": "ipython",
    "version": 3
   },
   "file_extension": ".py",
   "mimetype": "text/x-python",
   "name": "python",
   "nbconvert_exporter": "python",
   "pygments_lexer": "ipython3",
   "version": "3.7.3"
  }
 },
 "nbformat": 4,
 "nbformat_minor": 2
}
