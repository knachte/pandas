{
 "cells": [
  {
   "cell_type": "markdown",
   "metadata": {},
   "source": [
    "# Removing columns from a DataFrame"
   ]
  },
  {
   "cell_type": "code",
   "execution_count": 2,
   "metadata": {},
   "outputs": [],
   "source": [
    "import pandas as pd\n",
    "testData = pd.read_csv(\"./data/startdata.csv\",sep = ';', index_col = ['Date and time'], parse_dates = ['Date and time'], dayfirst = True)"
   ]
  },
  {
   "cell_type": "markdown",
   "metadata": {},
   "source": [
    "Now that we know how to add columns, we should also know how to remove them. There are two ways to do this: **drop** and **del**. "
   ]
  },
  {
   "cell_type": "markdown",
   "metadata": {},
   "source": [
    "## Drop"
   ]
  },
  {
   "cell_type": "markdown",
   "metadata": {},
   "source": [
    "**Drop** alows us to remove **multiple columns** at once, by passing either a single columnName or a list of ColumnNames. We can choose if we want to apply the changes to this DataFrame, by specifying the *inplace=true* parameter, or if we want to make a new copy by omiting that or setting it to false. We also *need* to add the *axis=1* parameter to specify that the drop needs to be performed on a column."
   ]
  },
  {
   "cell_type": "code",
   "execution_count": 3,
   "metadata": {},
   "outputs": [
    {
     "name": "stdout",
     "output_type": "stream",
     "text": [
      "                    Visibility Value3\n",
      "Date and time                        \n",
      "2019-01-01 00:00:00       Show      A\n",
      "2019-01-01 06:00:00       Hide      B\n",
      "2019-01-01 12:00:00       Show      C\n"
     ]
    }
   ],
   "source": [
    "#make copies to work on\n",
    "DropTMP = testData.copy()\n",
    "\n",
    "DropExample = DropTMP.drop(['Value', 'Value2'], axis=1)\n",
    "\n",
    "print (DropExample.head(3))"
   ]
  },
  {
   "cell_type": "markdown",
   "metadata": {},
   "source": [
    "A new way of using drop without having to spcify the axis for columns is:\n",
    "```python\n",
    "DataFrame.drop(columns=['Col1','Col2'])\n",
    "```"
   ]
  },
  {
   "cell_type": "markdown",
   "metadata": {},
   "source": [
    "#### Del"
   ]
  },
  {
   "cell_type": "markdown",
   "metadata": {},
   "source": [
    " *del* only works on a single column at a time and affects the current DataFrame. "
   ]
  },
  {
   "cell_type": "code",
   "execution_count": 3,
   "metadata": {},
   "outputs": [
    {
     "name": "stdout",
     "output_type": "stream",
     "text": [
      "                     Value  Value2 Value3\n",
      "Date and time                            \n",
      "2019-01-01 00:00:00     30      42      A\n",
      "2019-01-01 06:00:00     73      37      B\n",
      "2019-01-01 12:00:00     44      51      C\n"
     ]
    }
   ],
   "source": [
    "DelExample = testData.copy()\n",
    "\n",
    "del DelExample['Visibility']\n",
    "\n",
    "print (DelExample.head(3))"
   ]
  },
  {
   "cell_type": "markdown",
   "metadata": {},
   "source": [
    "Next: [Filtering](05-Filtering.ipynb) | [Content](00-Content.ipynb)"
   ]
  }
 ],
 "metadata": {
  "kernelspec": {
   "display_name": "Python 3",
   "language": "python",
   "name": "python3"
  },
  "language_info": {
   "codemirror_mode": {
    "name": "ipython",
    "version": 3
   },
   "file_extension": ".py",
   "mimetype": "text/x-python",
   "name": "python",
   "nbconvert_exporter": "python",
   "pygments_lexer": "ipython3",
   "version": "3.7.3"
  }
 },
 "nbformat": 4,
 "nbformat_minor": 2
}
