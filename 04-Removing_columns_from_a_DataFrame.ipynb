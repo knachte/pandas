{
 "cells": [
  {
   "cell_type": "markdown",
   "metadata": {},
   "source": [
    "# Removing columns from a DataFrame"
   ]
  },
  {
   "cell_type": "code",
   "execution_count": 1,
   "metadata": {},
   "outputs": [],
   "source": [
    "import pandas as pd\n",
    "testData = pd.read_csv(\"./data/startdata.csv\",sep = ';', index_col = ['Date and time'], parse_dates = ['Date and time'], dayfirst = True)"
   ]
  },
  {
   "cell_type": "markdown",
   "metadata": {},
   "source": [
    "Now that we know how to add columns, we should also know how to remove them. There are two ways to do this. **drop** alows us to remove **multiple columns** at once and requires that we assign the result to a new variable, **del** removes **only one** and works on the specified DataFrame."
   ]
  },
  {
   "cell_type": "code",
   "execution_count": 28,
   "metadata": {},
   "outputs": [
    {
     "name": "stdout",
     "output_type": "stream",
     "text": [
      "               Visibility\n",
      "Date and time            \n",
      "1/01/2019 0:00       Show\n",
      "1/01/2019 1:00       Show\n",
      "1/01/2019 2:00       Show\n",
      "                Value  Value2\n",
      "Date and time                \n",
      "1/01/2019 0:00     85      48\n",
      "1/01/2019 1:00     76      64\n",
      "1/01/2019 2:00     99      62\n"
     ]
    }
   ],
   "source": [
    "#make copies to work on\n",
    "DropTMP = testData.copy()\n",
    "DelExample = testData.copy()\n",
    "\n",
    "DropExample = DropTMP.drop(['Value', 'Value2'], axis=1)\n",
    "del DelExample['Visibility']\n",
    "\n",
    "print (DropExample.head(3))\n",
    "print (DelExample.head(3))"
   ]
  }
 ],
 "metadata": {
  "kernelspec": {
   "display_name": "Python 3",
   "language": "python",
   "name": "python3"
  },
  "language_info": {
   "codemirror_mode": {
    "name": "ipython",
    "version": 3
   },
   "file_extension": ".py",
   "mimetype": "text/x-python",
   "name": "python",
   "nbconvert_exporter": "python",
   "pygments_lexer": "ipython3",
   "version": "3.7.3"
  }
 },
 "nbformat": 4,
 "nbformat_minor": 2
}
