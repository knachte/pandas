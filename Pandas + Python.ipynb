{
 "cells": [
  {
   "cell_type": "markdown",
   "metadata": {},
   "source": [
    "# Using Pandas to manipulate data"
   ]
  },
  {
   "cell_type": "markdown",
   "metadata": {},
   "source": [
    " <br><br>"
   ]
  },
  {
   "cell_type": "markdown",
   "metadata": {},
   "source": [
    "First of all, before we can do anything with Pandas, we have to import it, so Python and Jupyter Notebook know how to use it."
   ]
  },
  {
   "cell_type": "code",
   "execution_count": 32,
   "metadata": {},
   "outputs": [],
   "source": [
    "import pandas as pd"
   ]
  },
  {
   "cell_type": "markdown",
   "metadata": {},
   "source": [
    "<br><br>\n",
    "## Reading and writing data from CSV files"
   ]
  },
  {
   "cell_type": "markdown",
   "metadata": {},
   "source": [
    "CSV (Comma Sepparated Values) files are basically text files with comma's to separate the different fields in the rows of data. Every new line starts a new line of data in the set. Sometimes other characters are used to separate the data."
   ]
  },
  {
   "cell_type": "markdown",
   "metadata": {},
   "source": [
    "To read data from a file or an URL use the pd.read_csv function: \n",
    "```python\n",
    "DataFrame = pd.read_csv('filename',\n",
    "    sep = ',',  -> use comma as the separator while importing\n",
    "    index_col = ['Date'], -> column to be used as index, can be a list                        \n",
    "    parse_dates = ['Date'], -> specify which columns to treat as dates                    \n",
    "    dayfirst = True, -> DD/MM format dates, international and European format                            \n",
    "    na_values = [‘nope’, ‘Nein’, ‘non’], -> These values will be set to NaN\n",
    "    dtype = {'Column': str}, -> explicitely saying that this column is a string\n",
    "    encoding = 'utf-8'\n",
    ").fillna(method='backfill') -> replaces NaN occurences with the next valid value from that column\n",
    "```\n",
    "The .fillna(method='backfill') is used to prevent NaN occurences that might cause problems while doing calculations later."
   ]
  },
  {
   "cell_type": "markdown",
   "metadata": {},
   "source": [
    "To write the processed data back to a CSV file use the to_CSV() function on a dataframe:\n",
    "```python\n",
    "DataFrame.to_csv('filename')\n",
    "```"
   ]
  },
  {
   "cell_type": "markdown",
   "metadata": {},
   "source": [
    "Lets load some data to work with while we look further into all of this"
   ]
  },
  {
   "cell_type": "code",
   "execution_count": 91,
   "metadata": {},
   "outputs": [],
   "source": [
    "testData = pd.read_csv(\"./data/startdata.csv\",sep = ';', index_col = ['Date and time'], parse_dates = ['Date and time'], dayfirst = True)"
   ]
  },
  {
   "cell_type": "markdown",
   "metadata": {},
   "source": [
    "## DataFrames, Series and Lists"
   ]
  },
  {
   "cell_type": "markdown",
   "metadata": {},
   "source": [
    "While working with Pandas you will be using DataFrames, Series and lists most of the time. The first two come from Pandas, the list is the default python one.\n",
    "\n",
    "Basically, a DataFrame has an index and multiple columns, Series had an index and one column, and a List is just an array of values.\n",
    "\n",
    "When working with DataFrames, you will often create new DataFrames or Series containing a limited subset of the original. One way to do this is by specifying which columns you want to use from the original. \n",
    "\n",
    "The format is slightly different depending on if you want a new DataFrame or Series:\n",
    "```python\n",
    "newDataFrame = OriginalDataFrame[['columnName']]\n",
    "newSeries = OriginalDataFrame['columnName']\n",
    "```\n",
    "The difference is that for the DataFrame you use double square brackets \"[[ ]]\" and for Series single square brackets \"[ ]\" to indicate which columns to use."
   ]
  },
  {
   "cell_type": "code",
   "execution_count": 7,
   "metadata": {},
   "outputs": [
    {
     "data": {
      "text/html": [
       "<div>\n",
       "<style scoped>\n",
       "    .dataframe tbody tr th:only-of-type {\n",
       "        vertical-align: middle;\n",
       "    }\n",
       "\n",
       "    .dataframe tbody tr th {\n",
       "        vertical-align: top;\n",
       "    }\n",
       "\n",
       "    .dataframe thead th {\n",
       "        text-align: right;\n",
       "    }\n",
       "</style>\n",
       "<table border=\"1\" class=\"dataframe\">\n",
       "  <thead>\n",
       "    <tr style=\"text-align: right;\">\n",
       "      <th></th>\n",
       "      <th>Value</th>\n",
       "    </tr>\n",
       "    <tr>\n",
       "      <th>Date and time</th>\n",
       "      <th></th>\n",
       "    </tr>\n",
       "  </thead>\n",
       "  <tbody>\n",
       "    <tr>\n",
       "      <th>1/01/2019 0:00</th>\n",
       "      <td>85</td>\n",
       "    </tr>\n",
       "    <tr>\n",
       "      <th>1/01/2019 1:00</th>\n",
       "      <td>76</td>\n",
       "    </tr>\n",
       "    <tr>\n",
       "      <th>1/01/2019 2:00</th>\n",
       "      <td>99</td>\n",
       "    </tr>\n",
       "  </tbody>\n",
       "</table>\n",
       "</div>"
      ],
      "text/plain": [
       "                Value\n",
       "Date and time        \n",
       "1/01/2019 0:00     85\n",
       "1/01/2019 1:00     76\n",
       "1/01/2019 2:00     99"
      ]
     },
     "execution_count": 7,
     "metadata": {},
     "output_type": "execute_result"
    }
   ],
   "source": [
    "testData[['Value']].head(3)"
   ]
  },
  {
   "cell_type": "code",
   "execution_count": 8,
   "metadata": {},
   "outputs": [
    {
     "data": {
      "text/plain": [
       "Date and time\n",
       "1/01/2019 0:00    85\n",
       "1/01/2019 1:00    76\n",
       "1/01/2019 2:00    99\n",
       "Name: Value, dtype: int64"
      ]
     },
     "execution_count": 8,
     "metadata": {},
     "output_type": "execute_result"
    }
   ],
   "source": [
    "testData['Value'].head(3)"
   ]
  },
  {
   "cell_type": "markdown",
   "metadata": {},
   "source": [
    "When executing in Jupyter notebook, you can see the difference between a DataFrame and a Series, the Dataframes output is more like a formatted html table, where is series is raw textdata without formatting."
   ]
  },
  {
   "cell_type": "markdown",
   "metadata": {},
   "source": [
    "If you want a new DataFrame with multiple columns, pass the columns in in the order you want them to be in:"
   ]
  },
  {
   "cell_type": "code",
   "execution_count": 12,
   "metadata": {},
   "outputs": [
    {
     "data": {
      "text/html": [
       "<div>\n",
       "<style scoped>\n",
       "    .dataframe tbody tr th:only-of-type {\n",
       "        vertical-align: middle;\n",
       "    }\n",
       "\n",
       "    .dataframe tbody tr th {\n",
       "        vertical-align: top;\n",
       "    }\n",
       "\n",
       "    .dataframe thead th {\n",
       "        text-align: right;\n",
       "    }\n",
       "</style>\n",
       "<table border=\"1\" class=\"dataframe\">\n",
       "  <thead>\n",
       "    <tr style=\"text-align: right;\">\n",
       "      <th></th>\n",
       "      <th>Value2</th>\n",
       "      <th>Value</th>\n",
       "    </tr>\n",
       "    <tr>\n",
       "      <th>Date and time</th>\n",
       "      <th></th>\n",
       "      <th></th>\n",
       "    </tr>\n",
       "  </thead>\n",
       "  <tbody>\n",
       "    <tr>\n",
       "      <th>1/01/2019 0:00</th>\n",
       "      <td>48</td>\n",
       "      <td>85</td>\n",
       "    </tr>\n",
       "    <tr>\n",
       "      <th>1/01/2019 1:00</th>\n",
       "      <td>64</td>\n",
       "      <td>76</td>\n",
       "    </tr>\n",
       "    <tr>\n",
       "      <th>1/01/2019 2:00</th>\n",
       "      <td>62</td>\n",
       "      <td>99</td>\n",
       "    </tr>\n",
       "  </tbody>\n",
       "</table>\n",
       "</div>"
      ],
      "text/plain": [
       "                Value2  Value\n",
       "Date and time                \n",
       "1/01/2019 0:00      48     85\n",
       "1/01/2019 1:00      64     76\n",
       "1/01/2019 2:00      62     99"
      ]
     },
     "execution_count": 12,
     "metadata": {},
     "output_type": "execute_result"
    }
   ],
   "source": [
    "testData[['Value2', 'Value']].head(3)"
   ]
  },
  {
   "cell_type": "markdown",
   "metadata": {},
   "source": [
    "### Adding columns"
   ]
  },
  {
   "cell_type": "markdown",
   "metadata": {},
   "source": [
    "Now that we have split up dataframes, we should also be able to reassemble them. To do this you can use **pd.concat()**. We will first split up the sample data to reassemble it afterwards:"
   ]
  },
  {
   "cell_type": "code",
   "execution_count": 30,
   "metadata": {},
   "outputs": [
    {
     "data": {
      "text/html": [
       "<div>\n",
       "<style scoped>\n",
       "    .dataframe tbody tr th:only-of-type {\n",
       "        vertical-align: middle;\n",
       "    }\n",
       "\n",
       "    .dataframe tbody tr th {\n",
       "        vertical-align: top;\n",
       "    }\n",
       "\n",
       "    .dataframe thead th {\n",
       "        text-align: right;\n",
       "    }\n",
       "</style>\n",
       "<table border=\"1\" class=\"dataframe\">\n",
       "  <thead>\n",
       "    <tr style=\"text-align: right;\">\n",
       "      <th></th>\n",
       "      <th>Value</th>\n",
       "      <th>Value2</th>\n",
       "      <th>Visibility</th>\n",
       "    </tr>\n",
       "    <tr>\n",
       "      <th>Date and time</th>\n",
       "      <th></th>\n",
       "      <th></th>\n",
       "      <th></th>\n",
       "    </tr>\n",
       "  </thead>\n",
       "  <tbody>\n",
       "    <tr>\n",
       "      <th>1/01/2019 0:00</th>\n",
       "      <td>85</td>\n",
       "      <td>48</td>\n",
       "      <td>Show</td>\n",
       "    </tr>\n",
       "    <tr>\n",
       "      <th>1/01/2019 1:00</th>\n",
       "      <td>76</td>\n",
       "      <td>64</td>\n",
       "      <td>Show</td>\n",
       "    </tr>\n",
       "    <tr>\n",
       "      <th>1/01/2019 2:00</th>\n",
       "      <td>99</td>\n",
       "      <td>62</td>\n",
       "      <td>Show</td>\n",
       "    </tr>\n",
       "  </tbody>\n",
       "</table>\n",
       "</div>"
      ],
      "text/plain": [
       "                Value  Value2 Visibility\n",
       "Date and time                           \n",
       "1/01/2019 0:00     85      48       Show\n",
       "1/01/2019 1:00     76      64       Show\n",
       "1/01/2019 2:00     99      62       Show"
      ]
     },
     "execution_count": 30,
     "metadata": {},
     "output_type": "execute_result"
    }
   ],
   "source": [
    "td1 = testData['Value']\n",
    "td2 = testData[['Value2', 'Visibility']]\n",
    "result = pd.concat([td1, td2], axis=1)\n",
    "result.head(3)"
   ]
  },
  {
   "cell_type": "markdown",
   "metadata": {},
   "source": [
    "As shown above, you can concatenate DataFrames and Series, just make sure that they are of the same length. \n",
    "Also note that you need to specify in which direction you want to concatenate. The **axis** option takes care of this. If you specify nothing or 0, then concat will add the items from the list passed to it as below eachother, which is not wat we want here, we want new columns to be added, for this use **axis=1**"
   ]
  },
  {
   "cell_type": "markdown",
   "metadata": {},
   "source": [
    "<br>You can also add new rows to a DataFrame by specifying the name of the new column when assigning the data:"
   ]
  },
  {
   "cell_type": "code",
   "execution_count": 72,
   "metadata": {},
   "outputs": [
    {
     "data": {
      "text/html": [
       "<div>\n",
       "<style scoped>\n",
       "    .dataframe tbody tr th:only-of-type {\n",
       "        vertical-align: middle;\n",
       "    }\n",
       "\n",
       "    .dataframe tbody tr th {\n",
       "        vertical-align: top;\n",
       "    }\n",
       "\n",
       "    .dataframe thead th {\n",
       "        text-align: right;\n",
       "    }\n",
       "</style>\n",
       "<table border=\"1\" class=\"dataframe\">\n",
       "  <thead>\n",
       "    <tr style=\"text-align: right;\">\n",
       "      <th></th>\n",
       "      <th>Visibility</th>\n",
       "      <th>Value</th>\n",
       "      <th>Value2</th>\n",
       "      <th>Value3</th>\n",
       "      <th>Random</th>\n",
       "    </tr>\n",
       "    <tr>\n",
       "      <th>Date and time</th>\n",
       "      <th></th>\n",
       "      <th></th>\n",
       "      <th></th>\n",
       "      <th></th>\n",
       "      <th></th>\n",
       "    </tr>\n",
       "  </thead>\n",
       "  <tbody>\n",
       "    <tr>\n",
       "      <th>2019-01-01 00:00:00</th>\n",
       "      <td>Show</td>\n",
       "      <td>36</td>\n",
       "      <td>99</td>\n",
       "      <td>A</td>\n",
       "      <td>18</td>\n",
       "    </tr>\n",
       "    <tr>\n",
       "      <th>2019-01-01 06:00:00</th>\n",
       "      <td>Show</td>\n",
       "      <td>7</td>\n",
       "      <td>96</td>\n",
       "      <td>B</td>\n",
       "      <td>82</td>\n",
       "    </tr>\n",
       "    <tr>\n",
       "      <th>2019-01-01 12:00:00</th>\n",
       "      <td>Show</td>\n",
       "      <td>90</td>\n",
       "      <td>43</td>\n",
       "      <td>C</td>\n",
       "      <td>23</td>\n",
       "    </tr>\n",
       "  </tbody>\n",
       "</table>\n",
       "</div>"
      ],
      "text/plain": [
       "                    Visibility  Value  Value2 Value3  Random\n",
       "Date and time                                               \n",
       "2019-01-01 00:00:00       Show     36      99      A      18\n",
       "2019-01-01 06:00:00       Show      7      96      B      82\n",
       "2019-01-01 12:00:00       Show     90      43      C      23"
      ]
     },
     "execution_count": 72,
     "metadata": {},
     "output_type": "execute_result"
    }
   ],
   "source": [
    "import random\n",
    "tmp=[]\n",
    "[tmp.append(random.randint(0,100)) for x in range(0,len(testData))]\n",
    "testData['Random'] = tmp\n",
    "testData.head(3)"
   ]
  },
  {
   "cell_type": "markdown",
   "metadata": {},
   "source": [
    "### Removing columns"
   ]
  },
  {
   "cell_type": "markdown",
   "metadata": {},
   "source": [
    "Now that we know how to add columns, we should also know how to remove them. There are two ways to do this. **drop** alows us to remove multiple columns at once and requires that we assign the result to a nw variable, **del** removes only one and works on the specified DataFrame."
   ]
  },
  {
   "cell_type": "code",
   "execution_count": 28,
   "metadata": {},
   "outputs": [
    {
     "name": "stdout",
     "output_type": "stream",
     "text": [
      "               Visibility\n",
      "Date and time            \n",
      "1/01/2019 0:00       Show\n",
      "1/01/2019 1:00       Show\n",
      "1/01/2019 2:00       Show\n",
      "                Value  Value2\n",
      "Date and time                \n",
      "1/01/2019 0:00     85      48\n",
      "1/01/2019 1:00     76      64\n",
      "1/01/2019 2:00     99      62\n"
     ]
    }
   ],
   "source": [
    "#make copies to work on\n",
    "DropTMP = testData.copy()\n",
    "DelExample = testData.copy()\n",
    "\n",
    "DropExample = DropTMP.drop(['Value', 'Value2'], axis=1)\n",
    "del DelExample['Visibility']\n",
    "\n",
    "print (DropExample.head(3))\n",
    "print (DelExample.head(3))"
   ]
  },
  {
   "cell_type": "markdown",
   "metadata": {},
   "source": [
    "While importing we specified an index. This is the column that apears in bold when Jupiter Notebook displays a DataFrame. If we want to use this we can use **.index**. Let's add a column that contains the weekday, based on the date per row. Since we specified in the import that 'Date and time' is a date, we can use .weekday on it."
   ]
  },
  {
   "cell_type": "code",
   "execution_count": 79,
   "metadata": {},
   "outputs": [
    {
     "data": {
      "text/html": [
       "<div>\n",
       "<style scoped>\n",
       "    .dataframe tbody tr th:only-of-type {\n",
       "        vertical-align: middle;\n",
       "    }\n",
       "\n",
       "    .dataframe tbody tr th {\n",
       "        vertical-align: top;\n",
       "    }\n",
       "\n",
       "    .dataframe thead th {\n",
       "        text-align: right;\n",
       "    }\n",
       "</style>\n",
       "<table border=\"1\" class=\"dataframe\">\n",
       "  <thead>\n",
       "    <tr style=\"text-align: right;\">\n",
       "      <th></th>\n",
       "      <th>Visibility</th>\n",
       "      <th>Value</th>\n",
       "      <th>Value2</th>\n",
       "      <th>Value3</th>\n",
       "      <th>Random</th>\n",
       "      <th>weekday</th>\n",
       "    </tr>\n",
       "    <tr>\n",
       "      <th>Date and time</th>\n",
       "      <th></th>\n",
       "      <th></th>\n",
       "      <th></th>\n",
       "      <th></th>\n",
       "      <th></th>\n",
       "      <th></th>\n",
       "    </tr>\n",
       "  </thead>\n",
       "  <tbody>\n",
       "    <tr>\n",
       "      <th>2019-01-01 00:00:00</th>\n",
       "      <td>Show</td>\n",
       "      <td>36</td>\n",
       "      <td>99</td>\n",
       "      <td>A</td>\n",
       "      <td>18</td>\n",
       "      <td>1</td>\n",
       "    </tr>\n",
       "    <tr>\n",
       "      <th>2019-01-01 06:00:00</th>\n",
       "      <td>Show</td>\n",
       "      <td>7</td>\n",
       "      <td>96</td>\n",
       "      <td>B</td>\n",
       "      <td>82</td>\n",
       "      <td>1</td>\n",
       "    </tr>\n",
       "    <tr>\n",
       "      <th>2019-01-01 12:00:00</th>\n",
       "      <td>Show</td>\n",
       "      <td>90</td>\n",
       "      <td>43</td>\n",
       "      <td>C</td>\n",
       "      <td>23</td>\n",
       "      <td>1</td>\n",
       "    </tr>\n",
       "    <tr>\n",
       "      <th>2019-01-01 18:00:00</th>\n",
       "      <td>Show</td>\n",
       "      <td>50</td>\n",
       "      <td>14</td>\n",
       "      <td>D</td>\n",
       "      <td>52</td>\n",
       "      <td>1</td>\n",
       "    </tr>\n",
       "    <tr>\n",
       "      <th>2019-01-02 00:00:00</th>\n",
       "      <td>Show</td>\n",
       "      <td>67</td>\n",
       "      <td>16</td>\n",
       "      <td>E</td>\n",
       "      <td>95</td>\n",
       "      <td>2</td>\n",
       "    </tr>\n",
       "  </tbody>\n",
       "</table>\n",
       "</div>"
      ],
      "text/plain": [
       "                    Visibility  Value  Value2 Value3  Random  weekday\n",
       "Date and time                                                        \n",
       "2019-01-01 00:00:00       Show     36      99      A      18        1\n",
       "2019-01-01 06:00:00       Show      7      96      B      82        1\n",
       "2019-01-01 12:00:00       Show     90      43      C      23        1\n",
       "2019-01-01 18:00:00       Show     50      14      D      52        1\n",
       "2019-01-02 00:00:00       Show     67      16      E      95        2"
      ]
     },
     "execution_count": 79,
     "metadata": {},
     "output_type": "execute_result"
    }
   ],
   "source": [
    "testData['weekday'] = testData[:].index.weekday\n",
    "testData.head(5)"
   ]
  },
  {
   "cell_type": "markdown",
   "metadata": {},
   "source": [
    "## Filtering"
   ]
  },
  {
   "cell_type": "markdown",
   "metadata": {},
   "source": [
    "### GroupBy"
   ]
  },
  {
   "cell_type": "markdown",
   "metadata": {},
   "source": [
    "If there is a column with values that can be the same, the **groupby** function can be used to filter on those, e.g. postal codes. Once that grouping is done an aggregate function can be performed on that grouped data:"
   ]
  },
  {
   "cell_type": "code",
   "execution_count": 84,
   "metadata": {},
   "outputs": [
    {
     "data": {
      "text/html": [
       "<div>\n",
       "<style scoped>\n",
       "    .dataframe tbody tr th:only-of-type {\n",
       "        vertical-align: middle;\n",
       "    }\n",
       "\n",
       "    .dataframe tbody tr th {\n",
       "        vertical-align: top;\n",
       "    }\n",
       "\n",
       "    .dataframe thead th {\n",
       "        text-align: right;\n",
       "    }\n",
       "</style>\n",
       "<table border=\"1\" class=\"dataframe\">\n",
       "  <thead>\n",
       "    <tr style=\"text-align: right;\">\n",
       "      <th></th>\n",
       "      <th>Value</th>\n",
       "      <th>Value2</th>\n",
       "      <th>Random</th>\n",
       "      <th>weekday</th>\n",
       "    </tr>\n",
       "    <tr>\n",
       "      <th>Value3</th>\n",
       "      <th></th>\n",
       "      <th></th>\n",
       "      <th></th>\n",
       "      <th></th>\n",
       "    </tr>\n",
       "  </thead>\n",
       "  <tbody>\n",
       "    <tr>\n",
       "      <th>A</th>\n",
       "      <td>60.000</td>\n",
       "      <td>66.500</td>\n",
       "      <td>43.375</td>\n",
       "      <td>2.5</td>\n",
       "    </tr>\n",
       "    <tr>\n",
       "      <th>B</th>\n",
       "      <td>39.875</td>\n",
       "      <td>66.125</td>\n",
       "      <td>45.500</td>\n",
       "      <td>2.5</td>\n",
       "    </tr>\n",
       "    <tr>\n",
       "      <th>C</th>\n",
       "      <td>69.625</td>\n",
       "      <td>45.125</td>\n",
       "      <td>56.000</td>\n",
       "      <td>3.0</td>\n",
       "    </tr>\n",
       "    <tr>\n",
       "      <th>D</th>\n",
       "      <td>48.625</td>\n",
       "      <td>61.500</td>\n",
       "      <td>45.000</td>\n",
       "      <td>3.0</td>\n",
       "    </tr>\n",
       "    <tr>\n",
       "      <th>E</th>\n",
       "      <td>42.500</td>\n",
       "      <td>42.750</td>\n",
       "      <td>88.250</td>\n",
       "      <td>3.5</td>\n",
       "    </tr>\n",
       "    <tr>\n",
       "      <th>F</th>\n",
       "      <td>35.125</td>\n",
       "      <td>59.000</td>\n",
       "      <td>34.375</td>\n",
       "      <td>3.5</td>\n",
       "    </tr>\n",
       "  </tbody>\n",
       "</table>\n",
       "</div>"
      ],
      "text/plain": [
       "         Value  Value2  Random  weekday\n",
       "Value3                                 \n",
       "A       60.000  66.500  43.375      2.5\n",
       "B       39.875  66.125  45.500      2.5\n",
       "C       69.625  45.125  56.000      3.0\n",
       "D       48.625  61.500  45.000      3.0\n",
       "E       42.500  42.750  88.250      3.5\n",
       "F       35.125  59.000  34.375      3.5"
      ]
     },
     "execution_count": 84,
     "metadata": {},
     "output_type": "execute_result"
    }
   ],
   "source": [
    "testData.groupby('Value3').mean()"
   ]
  },
  {
   "cell_type": "markdown",
   "metadata": {},
   "source": [
    "If we want to change the index (A, B, ..) to something more understandable, we can do so the following way:\n",
    "```python\n",
    "testData.index = [\"First\", \"Second\", \"Third\", \"Fourth\", \"Fifth\", \"Sixt\"]\n",
    "```"
   ]
  },
  {
   "cell_type": "markdown",
   "metadata": {},
   "source": [
    "### Resample"
   ]
  },
  {
   "cell_type": "markdown",
   "metadata": {},
   "source": [
    "The resample function resamples the DataFrame into new buckets based on the column specified, whose size is determined by the specified interval. Then the specified operation is performed on those. Here we won't specify a column, which then uses the index, and we resample to days (D)"
   ]
  },
  {
   "cell_type": "code",
   "execution_count": 78,
   "metadata": {},
   "outputs": [
    {
     "data": {
      "text/html": [
       "<div>\n",
       "<style scoped>\n",
       "    .dataframe tbody tr th:only-of-type {\n",
       "        vertical-align: middle;\n",
       "    }\n",
       "\n",
       "    .dataframe tbody tr th {\n",
       "        vertical-align: top;\n",
       "    }\n",
       "\n",
       "    .dataframe thead th {\n",
       "        text-align: right;\n",
       "    }\n",
       "</style>\n",
       "<table border=\"1\" class=\"dataframe\">\n",
       "  <thead>\n",
       "    <tr style=\"text-align: right;\">\n",
       "      <th></th>\n",
       "      <th>Value</th>\n",
       "      <th>Value2</th>\n",
       "      <th>Random</th>\n",
       "      <th>weekday</th>\n",
       "    </tr>\n",
       "    <tr>\n",
       "      <th>Date and time</th>\n",
       "      <th></th>\n",
       "      <th></th>\n",
       "      <th></th>\n",
       "      <th></th>\n",
       "    </tr>\n",
       "  </thead>\n",
       "  <tbody>\n",
       "    <tr>\n",
       "      <th>2019-01-01</th>\n",
       "      <td>183</td>\n",
       "      <td>252</td>\n",
       "      <td>175</td>\n",
       "      <td>4</td>\n",
       "    </tr>\n",
       "    <tr>\n",
       "      <th>2019-01-02</th>\n",
       "      <td>254</td>\n",
       "      <td>179</td>\n",
       "      <td>116</td>\n",
       "      <td>8</td>\n",
       "    </tr>\n",
       "    <tr>\n",
       "      <th>2019-01-03</th>\n",
       "      <td>208</td>\n",
       "      <td>200</td>\n",
       "      <td>206</td>\n",
       "      <td>12</td>\n",
       "    </tr>\n",
       "    <tr>\n",
       "      <th>2019-01-04</th>\n",
       "      <td>116</td>\n",
       "      <td>274</td>\n",
       "      <td>158</td>\n",
       "      <td>16</td>\n",
       "    </tr>\n",
       "    <tr>\n",
       "      <th>2019-01-05</th>\n",
       "      <td>134</td>\n",
       "      <td>181</td>\n",
       "      <td>334</td>\n",
       "      <td>20</td>\n",
       "    </tr>\n",
       "    <tr>\n",
       "      <th>2019-01-06</th>\n",
       "      <td>177</td>\n",
       "      <td>180</td>\n",
       "      <td>236</td>\n",
       "      <td>24</td>\n",
       "    </tr>\n",
       "    <tr>\n",
       "      <th>2019-01-07</th>\n",
       "      <td>251</td>\n",
       "      <td>202</td>\n",
       "      <td>192</td>\n",
       "      <td>0</td>\n",
       "    </tr>\n",
       "    <tr>\n",
       "      <th>2019-01-08</th>\n",
       "      <td>273</td>\n",
       "      <td>188</td>\n",
       "      <td>263</td>\n",
       "      <td>4</td>\n",
       "    </tr>\n",
       "    <tr>\n",
       "      <th>2019-01-09</th>\n",
       "      <td>194</td>\n",
       "      <td>177</td>\n",
       "      <td>288</td>\n",
       "      <td>8</td>\n",
       "    </tr>\n",
       "    <tr>\n",
       "      <th>2019-01-10</th>\n",
       "      <td>268</td>\n",
       "      <td>348</td>\n",
       "      <td>236</td>\n",
       "      <td>12</td>\n",
       "    </tr>\n",
       "    <tr>\n",
       "      <th>2019-01-11</th>\n",
       "      <td>161</td>\n",
       "      <td>309</td>\n",
       "      <td>134</td>\n",
       "      <td>16</td>\n",
       "    </tr>\n",
       "    <tr>\n",
       "      <th>2019-01-12</th>\n",
       "      <td>147</td>\n",
       "      <td>238</td>\n",
       "      <td>162</td>\n",
       "      <td>20</td>\n",
       "    </tr>\n",
       "  </tbody>\n",
       "</table>\n",
       "</div>"
      ],
      "text/plain": [
       "               Value  Value2  Random  weekday\n",
       "Date and time                                \n",
       "2019-01-01       183     252     175        4\n",
       "2019-01-02       254     179     116        8\n",
       "2019-01-03       208     200     206       12\n",
       "2019-01-04       116     274     158       16\n",
       "2019-01-05       134     181     334       20\n",
       "2019-01-06       177     180     236       24\n",
       "2019-01-07       251     202     192        0\n",
       "2019-01-08       273     188     263        4\n",
       "2019-01-09       194     177     288        8\n",
       "2019-01-10       268     348     236       12\n",
       "2019-01-11       161     309     134       16\n",
       "2019-01-12       147     238     162       20"
      ]
     },
     "execution_count": 78,
     "metadata": {},
     "output_type": "execute_result"
    }
   ],
   "source": [
    "testData.resample(\"D\").sum()"
   ]
  },
  {
   "cell_type": "markdown",
   "metadata": {},
   "source": [
    "## Plotting"
   ]
  },
  {
   "cell_type": "markdown",
   "metadata": {},
   "source": [
    "Plotting alows us to see the data we get in columns in a more understandable way.\n",
    "\n",
    "To use plotting we need to import it's library:\n",
    "```Python\n",
    "import matplotlib.pyplot as plt\n",
    "```\n",
    "\n",
    "A basic plot could look like this:\n",
    "```Python\n",
    "DataFrame.plot(\n",
    "    kind='bar', -> plot a bargraph\n",
    "    subplots=True -> display each column in a separate graphic when there is more than one\n",
    "    label='Text per plotline/bar/etc',\n",
    "    title=\"Title for the plot\"\n",
    ")\n",
    "```"
   ]
  },
  {
   "cell_type": "code",
   "execution_count": 87,
   "metadata": {},
   "outputs": [
    {
     "data": {
      "text/plain": [
       "<matplotlib.axes._subplots.AxesSubplot at 0x1faade68160>"
      ]
     },
     "execution_count": 87,
     "metadata": {},
     "output_type": "execute_result"
    },
    {
     "data": {
      "image/png": "[encoded data removed]",
      "text/plain": [
       "<Figure size 432x288 with 1 Axes>"
      ]
     },
     "metadata": {
      "needs_background": "light"
     },
     "output_type": "display_data"
    }
   ],
   "source": [
    "import matplotlib.pyplot as plt\n",
    "testData['Value'].plot()"
   ]
  },
  {
   "cell_type": "markdown",
   "metadata": {},
   "source": [
    "To plot True/False data, convert it to a float first: DataFrame['Column'].astype(float).plot()"
   ]
  },
  {
   "cell_type": "markdown",
   "metadata": {},
   "source": [
    "## Row operations"
   ]
  },
  {
   "cell_type": "markdown",
   "metadata": {},
   "source": [
    "You can perform functions on all the fields in a column at once and then do further processing with those results. We will check if the 'visibility' column contains 'hide'. The **str.contains()** function will return a boolean per row."
   ]
  },
  {
   "cell_type": "code",
   "execution_count": 92,
   "metadata": {},
   "outputs": [
    {
     "data": {
      "text/plain": [
       "Date and time\n",
       "2019-01-01 00:00:00    False\n",
       "2019-01-01 06:00:00     True\n",
       "2019-01-01 12:00:00    False\n",
       "2019-01-01 18:00:00    False\n",
       "2019-01-02 00:00:00    False\n",
       "Name: Visibility, dtype: bool"
      ]
     },
     "execution_count": 92,
     "metadata": {},
     "output_type": "execute_result"
    }
   ],
   "source": [
    "rowsToHide = testData['Visibility'].str.contains(\"Hide\").fillna(false)\n",
    "rowsToHide.head(5)"
   ]
  },
  {
   "cell_type": "markdown",
   "metadata": {},
   "source": [
    "As contains returns a boolean we get a list of True/False variables which is the same size as the original DataFrame.\n",
    "Because there could be 'incorrect' strings in there, you can add **.fillna(false)** after the closing bracket of the contains to set those to false in the returned results, or any other acceptable value, depending on what the function returns.\n",
    "\n",
    "In a case like this, where you get a Series of booleans returned, you can reverse this with ~(name)\n",
    "```python\n",
    "rowsToShow = ~(rowsToHide)\n",
    "```\n",
    "\n",
    "These Series can be used with a DataFrame to only show/use those that are true by adding it in a sepparate set of square brackets. Note that here we do not use quotes inside the square brackets."
   ]
  },
  {
   "cell_type": "code",
   "execution_count": 93,
   "metadata": {},
   "outputs": [
    {
     "data": {
      "text/html": [
       "<div>\n",
       "<style scoped>\n",
       "    .dataframe tbody tr th:only-of-type {\n",
       "        vertical-align: middle;\n",
       "    }\n",
       "\n",
       "    .dataframe tbody tr th {\n",
       "        vertical-align: top;\n",
       "    }\n",
       "\n",
       "    .dataframe thead th {\n",
       "        text-align: right;\n",
       "    }\n",
       "</style>\n",
       "<table border=\"1\" class=\"dataframe\">\n",
       "  <thead>\n",
       "    <tr style=\"text-align: right;\">\n",
       "      <th></th>\n",
       "      <th>Visibility</th>\n",
       "      <th>Value</th>\n",
       "      <th>Value2</th>\n",
       "      <th>Value3</th>\n",
       "    </tr>\n",
       "    <tr>\n",
       "      <th>Date and time</th>\n",
       "      <th></th>\n",
       "      <th></th>\n",
       "      <th></th>\n",
       "      <th></th>\n",
       "    </tr>\n",
       "  </thead>\n",
       "  <tbody>\n",
       "    <tr>\n",
       "      <th>2019-01-01 06:00:00</th>\n",
       "      <td>Hide</td>\n",
       "      <td>73</td>\n",
       "      <td>37</td>\n",
       "      <td>B</td>\n",
       "    </tr>\n",
       "    <tr>\n",
       "      <th>2019-01-04 12:00:00</th>\n",
       "      <td>Hide</td>\n",
       "      <td>95</td>\n",
       "      <td>39</td>\n",
       "      <td>C</td>\n",
       "    </tr>\n",
       "    <tr>\n",
       "      <th>2019-01-06 12:00:00</th>\n",
       "      <td>Hide</td>\n",
       "      <td>83</td>\n",
       "      <td>95</td>\n",
       "      <td>E</td>\n",
       "    </tr>\n",
       "    <tr>\n",
       "      <th>2019-01-08 18:00:00</th>\n",
       "      <td>Hide</td>\n",
       "      <td>91</td>\n",
       "      <td>61</td>\n",
       "      <td>B</td>\n",
       "    </tr>\n",
       "    <tr>\n",
       "      <th>2019-01-11 00:00:00</th>\n",
       "      <td>Hide</td>\n",
       "      <td>1</td>\n",
       "      <td>74</td>\n",
       "      <td>E</td>\n",
       "    </tr>\n",
       "  </tbody>\n",
       "</table>\n",
       "</div>"
      ],
      "text/plain": [
       "                    Visibility  Value  Value2 Value3\n",
       "Date and time                                       \n",
       "2019-01-01 06:00:00       Hide     73      37      B\n",
       "2019-01-04 12:00:00       Hide     95      39      C\n",
       "2019-01-06 12:00:00       Hide     83      95      E\n",
       "2019-01-08 18:00:00       Hide     91      61      B\n",
       "2019-01-11 00:00:00       Hide      1      74      E"
      ]
     },
     "execution_count": 93,
     "metadata": {},
     "output_type": "execute_result"
    }
   ],
   "source": [
    "testData[rowsToHide]"
   ]
  },
  {
   "cell_type": "markdown",
   "metadata": {},
   "source": [
    "<br>You can also use them to select one or more columns:"
   ]
  },
  {
   "cell_type": "code",
   "execution_count": 99,
   "metadata": {},
   "outputs": [
    {
     "data": {
      "text/plain": [
       "Date and time\n",
       "2019-01-01 06:00:00    0\n",
       "2019-01-04 12:00:00    0\n",
       "2019-01-06 12:00:00    0\n",
       "2019-01-08 18:00:00    0\n",
       "2019-01-11 00:00:00    0\n",
       "Name: Value, dtype: int64"
      ]
     },
     "execution_count": 99,
     "metadata": {},
     "output_type": "execute_result"
    }
   ],
   "source": [
    "testData['Value'][rowsToHide]"
   ]
  },
  {
   "cell_type": "markdown",
   "metadata": {},
   "source": [
    "<br>Above we made a variable rowsToHide, but if we only need this once, we can also do this inline:"
   ]
  },
  {
   "cell_type": "code",
   "execution_count": 95,
   "metadata": {},
   "outputs": [
    {
     "data": {
      "text/plain": [
       "Date and time\n",
       "2019-01-01 06:00:00    73\n",
       "2019-01-04 12:00:00    95\n",
       "2019-01-06 12:00:00    83\n",
       "2019-01-08 18:00:00    91\n",
       "2019-01-11 00:00:00     1\n",
       "Name: Value, dtype: int64"
      ]
     },
     "execution_count": 95,
     "metadata": {},
     "output_type": "execute_result"
    }
   ],
   "source": [
    "testData['Value'][testData['Visibility'].str.contains(\"Hide\")]"
   ]
  },
  {
   "cell_type": "markdown",
   "metadata": {},
   "source": [
    "We can use these Series with boolean values in combination with **.loc** to set values in the selected rows to a different value, without changing the others:"
   ]
  },
  {
   "cell_type": "code",
   "execution_count": 96,
   "metadata": {},
   "outputs": [
    {
     "data": {
      "text/html": [
       "<div>\n",
       "<style scoped>\n",
       "    .dataframe tbody tr th:only-of-type {\n",
       "        vertical-align: middle;\n",
       "    }\n",
       "\n",
       "    .dataframe tbody tr th {\n",
       "        vertical-align: top;\n",
       "    }\n",
       "\n",
       "    .dataframe thead th {\n",
       "        text-align: right;\n",
       "    }\n",
       "</style>\n",
       "<table border=\"1\" class=\"dataframe\">\n",
       "  <thead>\n",
       "    <tr style=\"text-align: right;\">\n",
       "      <th></th>\n",
       "      <th>Visibility</th>\n",
       "      <th>Value</th>\n",
       "      <th>Value2</th>\n",
       "      <th>Value3</th>\n",
       "    </tr>\n",
       "    <tr>\n",
       "      <th>Date and time</th>\n",
       "      <th></th>\n",
       "      <th></th>\n",
       "      <th></th>\n",
       "      <th></th>\n",
       "    </tr>\n",
       "  </thead>\n",
       "  <tbody>\n",
       "    <tr>\n",
       "      <th>2019-01-01 00:00:00</th>\n",
       "      <td>Show</td>\n",
       "      <td>30</td>\n",
       "      <td>42</td>\n",
       "      <td>A</td>\n",
       "    </tr>\n",
       "    <tr>\n",
       "      <th>2019-01-01 06:00:00</th>\n",
       "      <td>Hide</td>\n",
       "      <td>0</td>\n",
       "      <td>37</td>\n",
       "      <td>B</td>\n",
       "    </tr>\n",
       "    <tr>\n",
       "      <th>2019-01-01 12:00:00</th>\n",
       "      <td>Show</td>\n",
       "      <td>44</td>\n",
       "      <td>51</td>\n",
       "      <td>C</td>\n",
       "    </tr>\n",
       "    <tr>\n",
       "      <th>2019-01-01 18:00:00</th>\n",
       "      <td>Show</td>\n",
       "      <td>61</td>\n",
       "      <td>8</td>\n",
       "      <td>D</td>\n",
       "    </tr>\n",
       "    <tr>\n",
       "      <th>2019-01-02 00:00:00</th>\n",
       "      <td>Show</td>\n",
       "      <td>26</td>\n",
       "      <td>1</td>\n",
       "      <td>E</td>\n",
       "    </tr>\n",
       "  </tbody>\n",
       "</table>\n",
       "</div>"
      ],
      "text/plain": [
       "                    Visibility  Value  Value2 Value3\n",
       "Date and time                                       \n",
       "2019-01-01 00:00:00       Show     30      42      A\n",
       "2019-01-01 06:00:00       Hide      0      37      B\n",
       "2019-01-01 12:00:00       Show     44      51      C\n",
       "2019-01-01 18:00:00       Show     61       8      D\n",
       "2019-01-02 00:00:00       Show     26       1      E"
      ]
     },
     "execution_count": 96,
     "metadata": {},
     "output_type": "execute_result"
    }
   ],
   "source": [
    "testData.loc[rowsToHide, 'Value'] = 0\n",
    "testData.head(5)"
   ]
  },
  {
   "cell_type": "code",
   "execution_count": null,
   "metadata": {},
   "outputs": [],
   "source": []
  }
 ],
 "metadata": {
  "kernelspec": {
   "display_name": "Python 3",
   "language": "python",
   "name": "python3"
  },
  "language_info": {
   "codemirror_mode": {
    "name": "ipython",
    "version": 3
   },
   "file_extension": ".py",
   "mimetype": "text/x-python",
   "name": "python",
   "nbconvert_exporter": "python",
   "pygments_lexer": "ipython3",
   "version": "3.7.3"
  }
 },
 "nbformat": 4,
 "nbformat_minor": 2
}
