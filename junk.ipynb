{
 "cells": [
  {
   "cell_type": "code",
   "execution_count": 15,
   "metadata": {},
   "outputs": [
    {
     "name": "stdout",
     "output_type": "stream",
     "text": [
      "        Value1  Value2  Value4\n",
      "Value3                        \n",
      "A          NaN     NaN    10.0\n",
      "B          NaN     NaN   200.0\n",
      "C          NaN     NaN  3000.0\n",
      "D          NaN     NaN     NaN\n",
      "E          NaN     NaN     NaN\n",
      "F          NaN     NaN     NaN\n"
     ]
    }
   ],
   "source": [
    "import pandas as pd\n",
    "testData = pd.read_csv(\"./data/startdata.csv\",sep = ';', index_col = ['Date and time'], parse_dates = ['Date and time'], dayfirst = True)\n",
    "\n",
    "raw_data = {'Value4': [1,2,3,4,5,6],\n",
    "            'Value3': ['A', 'B', 'C', 'D', 'E', 'F'],\n",
    "            'Value2': [100, 200, 300, 400, 500, 600],\n",
    "            'Value1': [1000, 2000, 3000, 4000, 5000, 6000]}\n",
    "\n",
    "df = pd.DataFrame(raw_data, columns = ['Value4','Value3', 'Value2', 'Value1'])\n",
    "df = df.set_index(['Value3'])\n",
    "\n",
    "raw_data2 = {'Value4': [10,100,1000],\n",
    "            'Value3': ['A', 'B', 'C']}\n",
    "\n",
    "df2 = pd.DataFrame(raw_data2, columns = ['Value4','Value3'])\n",
    "df2 = df2.set_index(['Value3'])\n",
    "\n",
    "out = df * df2\n",
    "print(out)\n",
    "\n",
    "\n",
    "\n",
    "\n"
   ]
  },
  {
   "cell_type": "code",
   "execution_count": null,
   "metadata": {},
   "outputs": [],
   "source": []
  }
 ],
 "metadata": {
  "kernelspec": {
   "display_name": "Python 3",
   "language": "python",
   "name": "python3"
  },
  "language_info": {
   "codemirror_mode": {
    "name": "ipython",
    "version": 3
   },
   "file_extension": ".py",
   "mimetype": "text/x-python",
   "name": "python",
   "nbconvert_exporter": "python",
   "pygments_lexer": "ipython3",
   "version": "3.7.3"
  }
 },
 "nbformat": 4,
 "nbformat_minor": 2
}
