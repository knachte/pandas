{
 "cells": [
  {
   "cell_type": "code",
   "execution_count": 50,
   "metadata": {},
   "outputs": [
    {
     "data": {
      "text/html": [
       "<div>\n",
       "<style scoped>\n",
       "    .dataframe tbody tr th:only-of-type {\n",
       "        vertical-align: middle;\n",
       "    }\n",
       "\n",
       "    .dataframe tbody tr th {\n",
       "        vertical-align: top;\n",
       "    }\n",
       "\n",
       "    .dataframe thead th {\n",
       "        text-align: right;\n",
       "    }\n",
       "</style>\n",
       "<table border=\"1\" class=\"dataframe\">\n",
       "  <thead>\n",
       "    <tr style=\"text-align: right;\">\n",
       "      <th></th>\n",
       "      <th>step</th>\n",
       "      <th>distance</th>\n",
       "    </tr>\n",
       "  </thead>\n",
       "  <tbody>\n",
       "    <tr>\n",
       "      <th>0</th>\n",
       "      <td>0</td>\n",
       "      <td>0.000000</td>\n",
       "    </tr>\n",
       "    <tr>\n",
       "      <th>1</th>\n",
       "      <td>1</td>\n",
       "      <td>1.313448</td>\n",
       "    </tr>\n",
       "    <tr>\n",
       "      <th>2</th>\n",
       "      <td>2</td>\n",
       "      <td>2.711161</td>\n",
       "    </tr>\n",
       "    <tr>\n",
       "      <th>3</th>\n",
       "      <td>3</td>\n",
       "      <td>2.683138</td>\n",
       "    </tr>\n",
       "    <tr>\n",
       "      <th>4</th>\n",
       "      <td>4</td>\n",
       "      <td>3.110336</td>\n",
       "    </tr>\n",
       "    <tr>\n",
       "      <th>5</th>\n",
       "      <td>5</td>\n",
       "      <td>5.004071</td>\n",
       "    </tr>\n",
       "    <tr>\n",
       "      <th>6</th>\n",
       "      <td>6</td>\n",
       "      <td>5.913606</td>\n",
       "    </tr>\n",
       "    <tr>\n",
       "      <th>7</th>\n",
       "      <td>7</td>\n",
       "      <td>6.658234</td>\n",
       "    </tr>\n",
       "    <tr>\n",
       "      <th>8</th>\n",
       "      <td>8</td>\n",
       "      <td>8.377420</td>\n",
       "    </tr>\n",
       "    <tr>\n",
       "      <th>9</th>\n",
       "      <td>9</td>\n",
       "      <td>9.647850</td>\n",
       "    </tr>\n",
       "    <tr>\n",
       "      <th>10</th>\n",
       "      <td>10</td>\n",
       "      <td>10.000000</td>\n",
       "    </tr>\n",
       "  </tbody>\n",
       "</table>\n",
       "</div>"
      ],
      "text/plain": [
       "    step   distance\n",
       "0      0   0.000000\n",
       "1      1   1.313448\n",
       "2      2   2.711161\n",
       "3      3   2.683138\n",
       "4      4   3.110336\n",
       "5      5   5.004071\n",
       "6      6   5.913606\n",
       "7      7   6.658234\n",
       "8      8   8.377420\n",
       "9      9   9.647850\n",
       "10    10  10.000000"
      ]
     },
     "execution_count": 50,
     "metadata": {},
     "output_type": "execute_result"
    }
   ],
   "source": [
    "import matplotlib.pyplot as plt\n",
    "import pandas as pd\n",
    "import numpy as np\n",
    "\n",
    "df = pd.read_csv(\"./data/linear_reg.csv\")\n",
    "df"
   ]
  },
  {
   "cell_type": "markdown",
   "metadata": {},
   "source": [
    "The slope between two points on a linear model:\n",
    "```python\n",
    "slope = (y2 - y1) / (x2 - x1)\n",
    "```\n",
    "So between (0,0) and (2,3) -> 3/2 = 1.5"
   ]
  },
  {
   "cell_type": "markdown",
   "metadata": {},
   "source": [
    "The intercept is the y value for the point where x=0"
   ]
  },
  {
   "cell_type": "markdown",
   "metadata": {},
   "source": [
    "To easily make a plot with measured data and predicted data:"
   ]
  },
  {
   "cell_type": "code",
   "execution_count": 9,
   "metadata": {},
   "outputs": [],
   "source": [
    "def plot_measured_vs_model(x, y, model_y):\n",
    "    fig, axis = plt.subplots()\n",
    "    axis.plot(x, y, linestyle=\" \", marker=\"o\", color=\"black\", label=\"Measured\")\n",
    "    axis.plot(x, model_y, linestyle=\"-\", marker=None, color=\"red\", label=\"Modeled\")\n",
    "    \n",
    "    axis.grid(True)\n",
    "    axis.legend(loc=\"best\")\n",
    "    plt.show()"
   ]
  },
  {
   "cell_type": "code",
   "execution_count": 24,
   "metadata": {},
   "outputs": [
    {
     "data": {
      "image/png": "[encoded data removed]",
      "text/plain": [
       "<Figure size 432x288 with 1 Axes>"
      ]
     },
     "metadata": {
      "needs_background": "light"
     },
     "output_type": "display_data"
    }
   ],
   "source": [
    "plot_measured_vs_model(df.step, df.distance, df.step)"
   ]
  },
  {
   "cell_type": "markdown",
   "metadata": {},
   "source": [
    "### A few terms\n",
    "**Deviation or centering**\n",
    "For any point the deviation is the point - the mean of all points. (This is an array)\n",
    "\n",
    "**Variance**\n",
    "This is the mean of the square of the deviation. We take the square, because when taking the mean of the original values, values below zero will make the value to to zero.\n",
    "\n",
    "**Standard deviation**\n",
    "Because the variance is not in the same order as the values it's calculated from, we take the square root of it to get back to the original size order. \n",
    "\n",
    "**Covariance**\n",
    "To see if two values are linked.\n",
    "Get the deviation of both values/arrays and multiply these. Take the mean of all the values. If it is towards +, then both change in the same direction, if - they change in inverse directions. Around 0 they are not linked together.\n",
    "\n",
    "**Correlation**\n",
    "Same as covariance, but before multiplying the two arrays, divide them by their respective standard deviations. This gives a value between -1 and 1. "
   ]
  },
  {
   "cell_type": "markdown",
   "metadata": {},
   "source": [
    "To calculate correlation:"
   ]
  },
  {
   "cell_type": "code",
   "execution_count": 16,
   "metadata": {},
   "outputs": [],
   "source": [
    "def correlation(x,y):\n",
    "    x_dev = x - np.mean(x)\n",
    "    y_dev = y - np.mean(y)\n",
    "    x_norm = x_dev / np.std(x)\n",
    "    y_norm = y_dev / np.std(y)\n",
    "    return np.mean(x_norm * y_norm)"
   ]
  },
  {
   "cell_type": "code",
   "execution_count": 27,
   "metadata": {},
   "outputs": [
    {
     "data": {
      "text/plain": [
       "0.9905295363943742"
      ]
     },
     "execution_count": 27,
     "metadata": {},
     "output_type": "execute_result"
    }
   ],
   "source": [
    "correlation(df.step, df.distance)"
   ]
  },
  {
   "cell_type": "markdown",
   "metadata": {},
   "source": [
    "### Taylor series"
   ]
  },
  {
   "cell_type": "markdown",
   "metadata": {},
   "source": [
    "A Taylor series is a model of the form: y = a0 + (a1 * x) + (a2 * x^2) + (a3 * x^3) + .. + (an * x^n)\n",
    "a0 is the intersect\n",
    "a1 is the slope"
   ]
  },
  {
   "cell_type": "markdown",
   "metadata": {},
   "source": [
    "### RSS - Residuals Squared Sum"
   ]
  },
  {
   "cell_type": "markdown",
   "metadata": {},
   "source": [
    "RSS is a way to check how close the model we generated is to the real data. \n",
    "To do this we take the difference per point on the x-axis and square (y_model - y_data). We then sum all of these values and the smaller this value is, the better. RSS is for building models, not to evaluate them. It gives us a value that tells us which parameters are the best for this data.\n",
    "```python\n",
    "residuals_squared = np.square(y_model - y_data)\n",
    "RSS = np.sum(residuals_squared)\n",
    "```"
   ]
  },
  {
   "cell_type": "code",
   "execution_count": 31,
   "metadata": {},
   "outputs": [],
   "source": [
    "# function to load data, build model, compute RSS, and plot\n",
    "def compute_rss_and_plot_fit(xd, yd, model, a0, a1):    \n",
    "    ym = model(xd, a0, a1)\n",
    "    residuals = ym - yd\n",
    "    rss = np.sum(np.square(residuals))\n",
    "    summary = \"Parameters a0={}, a1={} yield RSS={:0.2f}\".format(a0, a1, rss)\n",
    "    plot_measured_vs_model(xd, yd, ym)\n",
    "    return rss, summary"
   ]
  },
  {
   "cell_type": "code",
   "execution_count": 33,
   "metadata": {},
   "outputs": [
    {
     "data": {
      "image/png": "[encoded data removed]",
      "text/plain": [
       "<Figure size 432x288 with 1 Axes>"
      ]
     },
     "metadata": {
      "needs_background": "light"
     },
     "output_type": "display_data"
    },
    {
     "data": {
      "text/plain": [
       "(2.1823427597621405, 'Parameters a0=0, a1=1 yield RSS=2.18')"
      ]
     },
     "execution_count": 33,
     "metadata": {},
     "output_type": "execute_result"
    }
   ],
   "source": [
    "def model_func(x, a0, a1):\n",
    "    return a0 + (a1*x)\n",
    "\n",
    "compute_rss_and_plot_fit(df.step, df.distance, model_func, 0 , 1)"
   ]
  },
  {
   "cell_type": "markdown",
   "metadata": {},
   "source": [
    "To find a0 and a1, you can set a0 to the y-value of the data at x = 0, and then play with a1 until you find the slope that has the lowest RSS value."
   ]
  },
  {
   "cell_type": "markdown",
   "metadata": {},
   "source": [
    "### Least squares optimization"
   ]
  },
  {
   "cell_type": "markdown",
   "metadata": {},
   "source": [
    "a_1 = covariance(x, y) / variance(x) \n",
    "\n",
    "a_0 = mean(y) - a_1 *  mean(x) "
   ]
  },
  {
   "cell_type": "markdown",
   "metadata": {},
   "source": [
    "There are several ways to get the best a1 and a0:"
   ]
  },
  {
   "cell_type": "markdown",
   "metadata": {},
   "source": [
    "#### Numpy expressions of optimal slope and intercept"
   ]
  },
  {
   "cell_type": "code",
   "execution_count": 37,
   "metadata": {},
   "outputs": [
    {
     "name": "stdout",
     "output_type": "stream",
     "text": [
      "Parameters a0=-0.011423708364744378, a1=1.0099077093228683\n"
     ]
    }
   ],
   "source": [
    "x = df.step\n",
    "y = df.distance\n",
    "x_mean = np.sum(x)/len(x)\n",
    "y_mean = np.sum(y)/len(y)\n",
    "x_dev = x - x_mean\n",
    "y_dev = y - y_mean\n",
    "a1 = np.sum( x_dev * y_dev ) / np.sum( x_dev**2 )\n",
    "a0 = y_mean - (a1*x_mean)\n",
    "print(\"Parameters a0={}, a1={}\".format(a0, a1))"
   ]
  },
  {
   "cell_type": "markdown",
   "metadata": {},
   "source": [
    "#### Optimized by Scipy"
   ]
  },
  {
   "cell_type": "code",
   "execution_count": 43,
   "metadata": {
    "scrolled": true
   },
   "outputs": [
    {
     "name": "stdout",
     "output_type": "stream",
     "text": [
      "Parameters a0=-0.011423708366951724, a1=1.00990770932289\n"
     ]
    }
   ],
   "source": [
    "from scipy import optimize\n",
    "x = df.step\n",
    "y = df.distance\n",
    "\n",
    "param_opt, param_cov = optimize.curve_fit(model_func, x, y)\n",
    "a0 = param_opt[0]  # a0 is the intercept in y = a0 + a1*x\n",
    "a1 = param_opt[1]  # a1 is the slope     in y = a0 + a1*x\n",
    "print(\"Parameters a0={}, a1={}\".format(a0, a1))"
   ]
  },
  {
   "cell_type": "markdown",
   "metadata": {},
   "source": [
    "#### Optimized by Statsmodels"
   ]
  },
  {
   "cell_type": "markdown",
   "metadata": {},
   "source": [
    "See lower for how to use ols"
   ]
  },
  {
   "cell_type": "code",
   "execution_count": 44,
   "metadata": {},
   "outputs": [
    {
     "name": "stdout",
     "output_type": "stream",
     "text": [
      "Parameters a0=-0.011423708364746488, a1=1.0099077093228688\n"
     ]
    }
   ],
   "source": [
    "from statsmodels.formula.api import ols\n",
    "x = df.step\n",
    "y = df.distance\n",
    "\n",
    "df = pd.DataFrame(dict(x_name=x, y_name=y))\n",
    "model_fit = ols(formula=\"y_name ~ x_name\", data=df).fit()\n",
    "y_model = model_fit.predict(df)\n",
    "x_model = x\n",
    "\n",
    "#get intercept and slope\n",
    "a0 = model_fit.params['Intercept']\n",
    "a1 = model_fit.params['x_name']\n",
    "#get the standard errors\n",
    "e0 = model_fit.params['Intercept']  #uncertainty in intercept\n",
    "e1 = model_fit.params['x_name']     #uncertainty in slope\n",
    "\n",
    "print(\"Parameters a0={}, a1={}\".format(a0, a1))\n"
   ]
  },
  {
   "cell_type": "markdown",
   "metadata": {},
   "source": [
    "All three manners return the same value several digits after the decimal point."
   ]
  },
  {
   "cell_type": "markdown",
   "metadata": {},
   "source": [
    "## Linear regression"
   ]
  },
  {
   "cell_type": "code",
   "execution_count": 37,
   "metadata": {},
   "outputs": [
    {
     "name": "stdout",
     "output_type": "stream",
     "text": [
      "Based on the model, the prediction for x-value 15 is [[15.13719193]]\n"
     ]
    }
   ],
   "source": [
    "from sklearn.linear_model import LinearRegression\n",
    "\n",
    "# Initialize a general model\n",
    "model = LinearRegression(fit_intercept=True)\n",
    "\n",
    "# x/y_data.shape = (len,) but we need it to be (len, 1)\n",
    "x_data = df.step.values.reshape(-1, 1)\n",
    "y_data = df.distance.values.reshape(-1, 1)\n",
    "\n",
    " # Fit the model to the data\n",
    "model.fit(x_data, y_data)\n",
    "\n",
    "# Extract the linear model parameters\n",
    "intercept = model.intercept_[0]\n",
    "slope = model.coef_[0,0]\n",
    "\n",
    "# Use the model to make predictions\n",
    "future_x = 15\n",
    "future_y = model.predict([[future_x]])\n",
    "\n",
    "print (\"Based on the model, the prediction for x-value {} is {}\".format(future_x, future_y))\n"
   ]
  },
  {
   "cell_type": "markdown",
   "metadata": {},
   "source": [
    "Model.predict expects an array of arrays, so the value passed to it needs to be of the for [[value1],[value2],[value3],... [valueN]]"
   ]
  },
  {
   "cell_type": "markdown",
   "metadata": {},
   "source": [
    "### OLS"
   ]
  },
  {
   "cell_type": "markdown",
   "metadata": {},
   "source": [
    "Ols allows us to generate a model for data we have. In the example we pass in a DataFrame and tell the model which columns to use to create a model. This will return the intercept and the slope."
   ]
  },
  {
   "cell_type": "code",
   "execution_count": 110,
   "metadata": {},
   "outputs": [
    {
     "name": "stdout",
     "output_type": "stream",
     "text": [
      "Intercept = -0.0114\n",
      "Slope = 1.0099\n",
      "prediction for existing data:\n",
      "-----------------------------\n",
      "[-0.01142371  0.998484    2.00839171  3.01829942  4.02820713  5.03811484\n",
      "  6.04802255  7.05793026  8.06783797  9.07774568 10.08765338]\n",
      "prediction for new data:\n",
      "------------------------\n",
      "0     2.008392\n",
      "1     5.038115\n",
      "2    15.137192\n",
      "3    20.186730\n",
      "dtype: float64\n"
     ]
    }
   ],
   "source": [
    "from statsmodels.formula.api import ols\n",
    "\n",
    "#df2 = pd.DataFrame({\"step\":df.step.values , \"distance\":df.distance.values})\n",
    "\n",
    "model_fit = ols(formula=\"distance ~ step\", data=df).fit()\n",
    "\n",
    "# Extract the model parameter values, and assign them to a0, a1\n",
    "a0 = model_fit.params['Intercept']\n",
    "a1 = model_fit.params['step']\n",
    "\n",
    "# Extract the standard errors\n",
    "e0 = model_fit.bse['Intercept']\n",
    "e1 = model_fit.bse['step']\n",
    "\n",
    "# Print model parameter values with meaningful names, and compare to summary()\n",
    "print( \"Intercept = {:0.4f}\".format(a0) )\n",
    "print( \"Slope = {:0.4f}\".format(a1) )\n",
    "#print( model_fit.summary() )\n",
    "\n",
    "predictions_for_existing_data=model_fit.predict()\n",
    "print(\"prediction for existing data:\")\n",
    "print('-----------------------------')\n",
    "print (predictions_for_existing_data)\n",
    "\n",
    "#Prediction for existing and new data, this must be passed as a DataSet column\n",
    "raw_data = {'step': [2, 5, 15, 20]}\n",
    "newData = pd.DataFrame(raw_data, columns = ['step'])\n",
    "\n",
    "predictions_for_new_data=model_fit.predict(newData)\n",
    "print(\"prediction for new data:\")\n",
    "print('------------------------')\n",
    "print(predictions_for_new_data)\n"
   ]
  },
  {
   "cell_type": "markdown",
   "metadata": {},
   "source": [
    "### evaluating the goodness of fit of a model"
   ]
  },
  {
   "cell_type": "markdown",
   "metadata": {},
   "source": [
    "#### RMSE"
   ]
  },
  {
   "cell_type": "markdown",
   "metadata": {},
   "source": [
    "RMSE provides a measure about how much the model deviates from the data."
   ]
  },
  {
   "cell_type": "markdown",
   "metadata": {},
   "source": [
    "```python\n",
    "residuals = y_model - y_data\n",
    "\n",
    "RSS = np.sum( np.square(residuals) )\n",
    "\n",
    "MSE = RSS/len(residuals)\n",
    "    or\n",
    "MSE = np.mean(np.square(residuals))\n",
    "\n",
    "RMSE = np.sqrt(np.mean( np.square(residuals)))\n",
    "```"
   ]
  },
  {
   "cell_type": "markdown",
   "metadata": {},
   "source": [
    "#### R-Squared"
   ]
  },
  {
   "cell_type": "markdown",
   "metadata": {},
   "source": [
    "R-squared tells us how much of the variation is due to the linear trend and how much is not."
   ]
  },
  {
   "cell_type": "markdown",
   "metadata": {},
   "source": [
    "Deviations:\n",
    "```python\n",
    "deviations = np.mean(y_data) - y_data\n",
    "VAR = np.sum(np.square(deviations))\n",
    "```\n",
    "Residuals:\n",
    "```python\n",
    "residuals = y_model - y_data\n",
    "RSS = np.sum(np.square(residuals))\n",
    "```\n",
    "R-squared:\n",
    "```python\n",
    "r_squared = 1 - (RSS / VAR)\n",
    "r = correlation(y_data, y_model)\n",
    "```"
   ]
  },
  {
   "cell_type": "markdown",
   "metadata": {},
   "source": [
    "You can also get the RSquared from the ols model: modelname.rsquared()"
   ]
  },
  {
   "cell_type": "markdown",
   "metadata": {},
   "source": [
    "**RMSE vs R-Squared**\n",
    "\n",
    "RMSE: how much variation is residual\n",
    "\n",
    "R-squared: what fraction of variation is linear"
   ]
  },
  {
   "cell_type": "code",
   "execution_count": null,
   "metadata": {},
   "outputs": [],
   "source": []
  }
 ],
 "metadata": {
  "kernelspec": {
   "display_name": "Python 3",
   "language": "python",
   "name": "python3"
  },
  "language_info": {
   "codemirror_mode": {
    "name": "ipython",
    "version": 3
   },
   "file_extension": ".py",
   "mimetype": "text/x-python",
   "name": "python",
   "nbconvert_exporter": "python",
   "pygments_lexer": "ipython3",
   "version": "3.7.3"
  }
 },
 "nbformat": 4,
 "nbformat_minor": 2
}
