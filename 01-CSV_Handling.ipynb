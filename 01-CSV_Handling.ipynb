{
 "cells": [
  {
   "cell_type": "markdown",
   "metadata": {},
   "source": [
    "# Reading and writing data from CSV files"
   ]
  },
  {
   "cell_type": "markdown",
   "metadata": {},
   "source": [
    "CSV (Comma Sepparated Values) files are basically text files with comma's or another character to separate the different fields in rows of data. Every new line is a new row of data in the set. "
   ]
  },
  {
   "cell_type": "markdown",
   "metadata": {},
   "source": [
    "To read data from a file or an URL use the pd.read_csv function: \n",
    "```python\n",
    "DataFrame = pd.read_csv('filename',\n",
    "    sep = ',',  -> use comma as the separator while importing\n",
    "    index_col = ['Date'], -> column to be used as index, can be a list                        \n",
    "    parse_dates = ['Date'], -> specify which columns to treat as dates                    \n",
    "    dayfirst = True, -> DD/MM format dates, international and European format                            \n",
    "    na_values = ['nope', 'Nein', 'non'], -> These values will be set to NaN\n",
    "    dtype = {'Column': str}, -> explicitely saying that this column is a string\n",
    "    encoding = 'utf-8'\n",
    ").fillna(method='backfill') -> replaces NaN occurences with the next valid value from that column\n",
    "```\n",
    "The **.fillna(method='backfill')** is used to prevent NaN occurences that might cause problems while doing calculations later."
   ]
  },
  {
   "cell_type": "markdown",
   "metadata": {},
   "source": [
    "To write the processed data back to a CSV file use the to_CSV() function on a dataframe:\n",
    "```python\n",
    "DataFrame.to_csv('filename')\n",
    "```"
   ]
  },
  {
   "cell_type": "markdown",
   "metadata": {},
   "source": [
    "An example of loading data could be:\n",
    "```python\n",
    "testData = pd.read_csv(\"./data/startdata.csv\", sep = ';', index_col = ['Date and time'], parse_dates = ['Date and time'], dayfirst = True)\n",
    "```"
   ]
  },
  {
   "cell_type": "markdown",
   "metadata": {},
   "source": [
    "Next: [DataFrames Series and Lists](02-DataFrames_Series_and_Lists.ipynb)"
   ]
  }
 ],
 "metadata": {
  "kernelspec": {
   "display_name": "Python 3",
   "language": "python",
   "name": "python3"
  },
  "language_info": {
   "codemirror_mode": {
    "name": "ipython",
    "version": 3
   },
   "file_extension": ".py",
   "mimetype": "text/x-python",
   "name": "python",
   "nbconvert_exporter": "python",
   "pygments_lexer": "ipython3",
   "version": "3.7.3"
  }
 },
 "nbformat": 4,
 "nbformat_minor": 2
}
