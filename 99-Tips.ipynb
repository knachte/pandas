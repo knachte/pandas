{
 "cells": [
  {
   "cell_type": "markdown",
   "metadata": {},
   "source": [
    "# Tips"
   ]
  },
  {
   "cell_type": "markdown",
   "metadata": {},
   "source": [
    "Remove all spaces from the column names and replace them with underscores\n",
    "```python\n",
    "df.columns = df.columns.str.replace(‘ ‘,’_’)\n",
    "```\n",
    "\n",
    "Converting a price string with the currency symbol as the first character to float in a column (€12.34)\n",
    "```python\n",
    "df.priceAsValue = [float(value[1:-1]) for value in df.priceAsString]\n",
    "```"
   ]
  },
  {
   "cell_type": "markdown",
   "metadata": {},
   "source": [
    "Creating a dictionary with options and passing that to a function, useful for presets\n",
    "\n",
    "prepare initial style options\n",
    "```python\n",
    "options = dict(marker='o', color='blue')\n",
    "```\n",
    "call the plot method on the axis object\n",
    "```python\n",
    "line = axis.plot(x, y, **options)\n",
    "```"
   ]
  },
  {
   "cell_type": "code",
   "execution_count": null,
   "metadata": {},
   "outputs": [],
   "source": []
  }
 ],
 "metadata": {
  "kernelspec": {
   "display_name": "Python 3",
   "language": "python",
   "name": "python3"
  },
  "language_info": {
   "codemirror_mode": {
    "name": "ipython",
    "version": 3
   },
   "file_extension": ".py",
   "mimetype": "text/x-python",
   "name": "python",
   "nbconvert_exporter": "python",
   "pygments_lexer": "ipython3",
   "version": "3.7.3"
  }
 },
 "nbformat": 4,
 "nbformat_minor": 2
}
